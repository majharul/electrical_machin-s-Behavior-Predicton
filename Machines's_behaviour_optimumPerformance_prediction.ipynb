{
  "nbformat": 4,
  "nbformat_minor": 0,
  "metadata": {
    "colab": {
      "name": "Machines's_behaviour_optimumPerformance_prediction.ipynb",
      "provenance": [],
      "authorship_tag": "ABX9TyO2dQlA2XsGJ05+bFodPjES",
      "include_colab_link": true
    },
    "kernelspec": {
      "name": "python3",
      "display_name": "Python 3"
    },
    "language_info": {
      "name": "python"
    }
  },
  "cells": [
    {
      "cell_type": "markdown",
      "metadata": {
        "id": "view-in-github",
        "colab_type": "text"
      },
      "source": [
        "<a href=\"https://colab.research.google.com/github/majharul/electrical_machin-s-Behavior-Predicton/blob/main/Machines's_behaviour_optimumPerformance_prediction.ipynb\" target=\"_parent\"><img src=\"https://colab.research.google.com/assets/colab-badge.svg\" alt=\"Open In Colab\"/></a>"
      ]
    },
    {
      "cell_type": "markdown",
      "metadata": {
        "id": "L759l2sfCd7C"
      },
      "source": [
        "# Problem Statement\n",
        "Suppose we have an electrically operated general purpose industrial machine (i.e Generator, Motor, Electrical Machines) which has been purchased for a manufacturing process plant. Typically the machine has to run whole day to remain the prodution process running smoothly. In this work our goal is to plan and design a solution and to execute different machine learning algorithms to compare the performances to predict the machine's life expectency of the respective machine. \n",
        "\n",
        ">**if we can predict the next shutdown before a forced shutdown then we can use the machine or run the machine(i.e: Motor) in an optimum condition to achieve maximum life expectency.**\n",
        "\n",
        "\n"
      ]
    },
    {
      "cell_type": "markdown",
      "metadata": {
        "id": "3-qgHwlIGCSw"
      },
      "source": [
        "# Specific Challenges\n",
        ">### Creating a dummy random dataset\n",
        ">### Data Cleansing and Preporcessing\n",
        ">### Outliers detection \n",
        ">### Ploting and Normalization\n",
        ">### Finding highly corelative feature that impact the machine Performances\n",
        ">### Proposing and Appropriate ML algorithm\n",
        ">### Training and Performace analysis of ML Model\n",
        ">### Comparing between different ML algorithm\n",
        "> ### Providing recomendation for life expectency of Generator\n",
        "\n",
        "\n",
        "\n",
        "\n",
        "# Data Set Property\n",
        "\n",
        "\n",
        "\n"
      ]
    },
    {
      "cell_type": "markdown",
      "metadata": {
        "id": "Bjf858b-DOYj"
      },
      "source": [
        "#Research Papers\n",
        "1. Said, Nor, and Majid, “Analysis of Distribution Transformer Losses and Life Expectancy Using Measured Harmonic Data.”\n",
        "2. Ebersbach et al., “Machine Condition Monitoring and Remaining Life Prediction Using Integrated Approach.”\n",
        "\n",
        "3. Enoch, George, and Aning, “Predicting the Remaining Lifetime of Distribution Transformers Using Machine Learning.”\n",
        "\n",
        "4. Zhou et al., “Remaining Useful Life Prediction with Similarity Fusion of Multi-Parameter and Multi-Sample Based on the Vibration Signals of Diesel Generator Gearbox.”\n",
        "5. Wei et al., “Research on Service Life Prediction of Diesel Engine.”\n",
        "\n",
        "##Related works\n",
        ">https://www.kaggle.com/vishalyo990/prediction-of-quality-of-wine\n",
        "\n",
        "\n",
        ">https://github.com/gussie/Springboard_data_science/blob/master/Predicting_Life_Expectancy/Project_Life_Expectancy.ipynb\n",
        "\n",
        ">https://www.kaggle.com/phamvanvung/remaining-useful-life-prognostics/notebook\n",
        "\n",
        "\n",
        ">https://www.kaggle.com/phamvanvung/remaining-useful-life-prognostics\n",
        "\n",
        "\n",
        ">https://www.datasciencesociety.net/using-machine-learning-to-explain-and-predict-the-life-expectancy-of-different-countries/\n",
        "\n",
        ">https://www.kaggle.com/kumarajarshi/life-expectancy-who\n",
        "\n",
        ">https://www.datasciencesociety.net/using-machine-learning-to-explain-and-predict-the-life-expectancy-of-different-countries/\n",
        "\n"
      ]
    },
    {
      "cell_type": "markdown",
      "metadata": {
        "id": "0RWd79gh95jF"
      },
      "source": [
        "#Data attributes\n",
        "the generated data is for an electrical machines(motor for a washing machine plant) \n",
        "data has x row and y column\n",
        "Primary observation. From the dataset we can predict next schedule of maintenance and we will collect the data from a single machines but using similar technique and logging data for same model's multiple machine we can predict life expectency lately. So in this work we will focus on a single machine data to find the next shutdown or to predict the next shutdown/maintenance before it happens forcefully.\n"
      ]
    },
    {
      "cell_type": "markdown",
      "metadata": {
        "id": "-r13GnE5-T3q"
      },
      "source": [
        "Dataset Generation"
      ]
    },
    {
      "cell_type": "code",
      "metadata": {
        "id": "SAd77PaM_t_9"
      },
      "source": [
        "## importing necessary library and modules\n",
        "from sklearn.datasets import make_regression\n",
        "from matplotlib import pyplot\n",
        "# from matplotlib import pyplot\n",
        "from pandas import DataFrame\n",
        "import pandas as pd\n",
        "\n",
        "# generate regression dataset\n",
        "X, y = make_regression(n_samples=180, n_features=15, noise=0.3)\n",
        "# plot regression dataset\n",
        "# pyplot.scatter(X,y)\n",
        "# pyplot.show()\n",
        "\n",
        "# df = DataFrame(dict(x=X[:,0], y=X[:,1], label=y))\n",
        "y.shape\n",
        "df = DataFrame(X)\n",
        "df['Output']=y\n"
      ],
      "execution_count": null,
      "outputs": []
    },
    {
      "cell_type": "markdown",
      "metadata": {
        "id": "oZMcRd6Ge6wH"
      },
      "source": [
        "# Dummy Timestamp data for 100 days\n",
        "Generating dummy time data for  100 days. In this work we are trying to provide a 100days data of a single machine. So data has been collected each day once for 100days .\n",
        "So lets generate dummy timestamps and add as a column to the generated dataset"
      ]
    },
    {
      "cell_type": "code",
      "metadata": {
        "colab": {
          "base_uri": "https://localhost:8080/"
        },
        "id": "rlY4567ueXNq",
        "outputId": "655e34ce-b344-43fa-d6d2-1fd2d21e266e"
      },
      "source": [
        "dti = pd.date_range(\"2018-01-01\", periods=180, freq=\"D\")\n",
        "dti"
      ],
      "execution_count": null,
      "outputs": [
        {
          "output_type": "execute_result",
          "data": {
            "text/plain": [
              "DatetimeIndex(['2018-01-01', '2018-01-02', '2018-01-03', '2018-01-04',\n",
              "               '2018-01-05', '2018-01-06', '2018-01-07', '2018-01-08',\n",
              "               '2018-01-09', '2018-01-10',\n",
              "               ...\n",
              "               '2018-06-20', '2018-06-21', '2018-06-22', '2018-06-23',\n",
              "               '2018-06-24', '2018-06-25', '2018-06-26', '2018-06-27',\n",
              "               '2018-06-28', '2018-06-29'],\n",
              "              dtype='datetime64[ns]', length=180, freq='D')"
            ]
          },
          "metadata": {
            "tags": []
          },
          "execution_count": 28
        }
      ]
    },
    {
      "cell_type": "code",
      "metadata": {
        "colab": {
          "base_uri": "https://localhost:8080/",
          "height": 309
        },
        "id": "DABpGJAdfaC2",
        "outputId": "668f45ac-bcb5-4029-fa4d-ebc728212ff9"
      },
      "source": [
        "#addinng to the data\n",
        "df['date']=dti\n",
        "df.head()\n",
        "# df.to_csv('dummy.csv')"
      ],
      "execution_count": null,
      "outputs": [
        {
          "output_type": "execute_result",
          "data": {
            "text/html": [
              "<div>\n",
              "<style scoped>\n",
              "    .dataframe tbody tr th:only-of-type {\n",
              "        vertical-align: middle;\n",
              "    }\n",
              "\n",
              "    .dataframe tbody tr th {\n",
              "        vertical-align: top;\n",
              "    }\n",
              "\n",
              "    .dataframe thead th {\n",
              "        text-align: right;\n",
              "    }\n",
              "</style>\n",
              "<table border=\"1\" class=\"dataframe\">\n",
              "  <thead>\n",
              "    <tr style=\"text-align: right;\">\n",
              "      <th></th>\n",
              "      <th>0</th>\n",
              "      <th>1</th>\n",
              "      <th>2</th>\n",
              "      <th>3</th>\n",
              "      <th>4</th>\n",
              "      <th>5</th>\n",
              "      <th>6</th>\n",
              "      <th>7</th>\n",
              "      <th>8</th>\n",
              "      <th>9</th>\n",
              "      <th>10</th>\n",
              "      <th>11</th>\n",
              "      <th>12</th>\n",
              "      <th>13</th>\n",
              "      <th>14</th>\n",
              "      <th>Output</th>\n",
              "      <th>date</th>\n",
              "    </tr>\n",
              "  </thead>\n",
              "  <tbody>\n",
              "    <tr>\n",
              "      <th>0</th>\n",
              "      <td>-0.085031</td>\n",
              "      <td>-0.131439</td>\n",
              "      <td>-0.981597</td>\n",
              "      <td>0.466616</td>\n",
              "      <td>1.125033</td>\n",
              "      <td>-0.529540</td>\n",
              "      <td>0.651901</td>\n",
              "      <td>-0.687695</td>\n",
              "      <td>-0.386532</td>\n",
              "      <td>-1.213713</td>\n",
              "      <td>-0.177537</td>\n",
              "      <td>-0.327856</td>\n",
              "      <td>-0.026396</td>\n",
              "      <td>1.456121</td>\n",
              "      <td>-0.052009</td>\n",
              "      <td>-150.751751</td>\n",
              "      <td>2018-01-01</td>\n",
              "    </tr>\n",
              "    <tr>\n",
              "      <th>1</th>\n",
              "      <td>-1.046994</td>\n",
              "      <td>1.351446</td>\n",
              "      <td>1.071931</td>\n",
              "      <td>1.746896</td>\n",
              "      <td>0.502593</td>\n",
              "      <td>-1.277054</td>\n",
              "      <td>-0.781047</td>\n",
              "      <td>-0.119050</td>\n",
              "      <td>-0.690915</td>\n",
              "      <td>-1.505921</td>\n",
              "      <td>0.462789</td>\n",
              "      <td>0.810695</td>\n",
              "      <td>0.773208</td>\n",
              "      <td>1.146707</td>\n",
              "      <td>0.808817</td>\n",
              "      <td>148.819269</td>\n",
              "      <td>2018-01-02</td>\n",
              "    </tr>\n",
              "    <tr>\n",
              "      <th>2</th>\n",
              "      <td>-1.635786</td>\n",
              "      <td>0.990072</td>\n",
              "      <td>0.877212</td>\n",
              "      <td>0.162816</td>\n",
              "      <td>-0.252778</td>\n",
              "      <td>-0.944640</td>\n",
              "      <td>-0.003198</td>\n",
              "      <td>0.437257</td>\n",
              "      <td>-0.907201</td>\n",
              "      <td>-0.961372</td>\n",
              "      <td>-0.214852</td>\n",
              "      <td>-1.521362</td>\n",
              "      <td>0.599153</td>\n",
              "      <td>0.801212</td>\n",
              "      <td>-0.607189</td>\n",
              "      <td>-176.871268</td>\n",
              "      <td>2018-01-03</td>\n",
              "    </tr>\n",
              "    <tr>\n",
              "      <th>3</th>\n",
              "      <td>-0.321120</td>\n",
              "      <td>0.210341</td>\n",
              "      <td>0.030298</td>\n",
              "      <td>0.072823</td>\n",
              "      <td>-0.243195</td>\n",
              "      <td>1.196390</td>\n",
              "      <td>0.052189</td>\n",
              "      <td>0.740779</td>\n",
              "      <td>0.380301</td>\n",
              "      <td>-1.122430</td>\n",
              "      <td>-0.025117</td>\n",
              "      <td>-1.241069</td>\n",
              "      <td>-1.074834</td>\n",
              "      <td>0.346232</td>\n",
              "      <td>0.591273</td>\n",
              "      <td>-41.650983</td>\n",
              "      <td>2018-01-04</td>\n",
              "    </tr>\n",
              "    <tr>\n",
              "      <th>4</th>\n",
              "      <td>-0.277049</td>\n",
              "      <td>2.405748</td>\n",
              "      <td>0.231918</td>\n",
              "      <td>0.336120</td>\n",
              "      <td>-0.402442</td>\n",
              "      <td>-0.283973</td>\n",
              "      <td>-0.459352</td>\n",
              "      <td>0.859903</td>\n",
              "      <td>-1.016970</td>\n",
              "      <td>-0.934296</td>\n",
              "      <td>-1.155953</td>\n",
              "      <td>0.441118</td>\n",
              "      <td>0.743920</td>\n",
              "      <td>-1.009405</td>\n",
              "      <td>-0.923239</td>\n",
              "      <td>-18.672067</td>\n",
              "      <td>2018-01-05</td>\n",
              "    </tr>\n",
              "  </tbody>\n",
              "</table>\n",
              "</div>"
            ],
            "text/plain": [
              "          0         1         2  ...        14      Output       date\n",
              "0 -0.085031 -0.131439 -0.981597  ... -0.052009 -150.751751 2018-01-01\n",
              "1 -1.046994  1.351446  1.071931  ...  0.808817  148.819269 2018-01-02\n",
              "2 -1.635786  0.990072  0.877212  ... -0.607189 -176.871268 2018-01-03\n",
              "3 -0.321120  0.210341  0.030298  ...  0.591273  -41.650983 2018-01-04\n",
              "4 -0.277049  2.405748  0.231918  ... -0.923239  -18.672067 2018-01-05\n",
              "\n",
              "[5 rows x 17 columns]"
            ]
          },
          "metadata": {
            "tags": []
          },
          "execution_count": 39
        }
      ]
    },
    {
      "cell_type": "markdown",
      "metadata": {
        "id": "mork-pu3foDn"
      },
      "source": [
        "# Playing with Attributes\n",
        "As we have generated 10 attributes of the machine to test the hyposthesis  of machine learning based prediction, at this moment we will just create relevant realistics patter of the randomly generaed data for regression analysis.\n",
        "so lets add attribute coulumn names of the industrial motor.\n",
        "\n",
        "#Typical Properties of a Motor\n",
        "> Machien should have rated specification\n",
        "> machine has been designed to run its full life span if the motor(i.e machine) runs in an degisnated optimum environment and loading capacity.\n",
        "For a motor, it has mainly few mandatory data embedded in its nameplate for examaple\n",
        "1. Rated Capacity(kW)\n",
        "2. Efficiency(%)\n",
        "3. Encloser Type (i.e IP55 , IP66)\n",
        "4. Operating Temperature (say 40^o - 50 Degree Celcious)\n",
        "5. Speed(RPM)\n",
        "#Additional Considerations\n",
        "##Besides the nameplate data in actuall running condition we need to observe othes data as well\n",
        "1. Running Speed\n",
        "2. Vibration\n",
        "3. Sound and noise level\n",
        "4. Hermonics\n",
        "5. Input Current\n",
        "6. Load (kW)\n",
        "7. Running Efficiency\n",
        "8. Room temperature and Body temperarute\n",
        "9. Room Humudity\n",
        "10. If any oil or debris is being leaked or not\n",
        "11. Status of the machine (either running or stroped)\n",
        "\n",
        "#Further Data COllection \n",
        "To model and predict a machine performances we need more data like possible shutdown or damaging info\n",
        "\n",
        "1. Either machine is running or not aka status of the machine\n",
        "2. if it has been shutted down forcefully or naturally due to off production\n",
        "3. If forcefully then reson for it\n",
        "4. Part ID or sensor that has been last repaired\n",
        "5. downtime\n",
        "\n",
        "#Main Concept of SUPERVISED model data\n",
        "## The main idea to model machine data to predict next forced shutdown\n",
        "The main idea that we will have data for 100days approximately to check how the machine behave daily. \n",
        "for example when the machine run on full load for a certain days then is it creating forceshutdown or is there any part get damaged or not.\n",
        "what is the impact of temperature and humidity before the shutdown of the machine.\n",
        "what impact does it have on harmonics\n",
        "how long full load efficiecny can be achived before a forcedshutdown\n",
        "\n",
        "\n",
        "Depending on this data we will get an idea which attribute has highest corelation for the shutdown or downtime.\n",
        "\n",
        "\n",
        "depending on that we will model using two or three machine learning model.\n",
        "\n",
        "if we can predict the next shutdown before the forced shutdown then we can use the machine in an optimum condition to achine maximum life expectency."
      ]
    },
    {
      "cell_type": "code",
      "metadata": {
        "colab": {
          "base_uri": "https://localhost:8080/"
        },
        "id": "yGoS3KhKpicb",
        "outputId": "03b9d406-1881-429c-df7f-04415a7a8fec"
      },
      "source": [
        "df.describe"
      ],
      "execution_count": null,
      "outputs": [
        {
          "output_type": "execute_result",
          "data": {
            "text/plain": [
              "<bound method NDFrame.describe of             0         1         2  ...        14      Output       date\n",
              "0   -0.085031 -0.131439 -0.981597  ... -0.052009 -150.751751 2018-01-01\n",
              "1   -1.046994  1.351446  1.071931  ...  0.808817  148.819269 2018-01-02\n",
              "2   -1.635786  0.990072  0.877212  ... -0.607189 -176.871268 2018-01-03\n",
              "3   -0.321120  0.210341  0.030298  ...  0.591273  -41.650983 2018-01-04\n",
              "4   -0.277049  2.405748  0.231918  ... -0.923239  -18.672067 2018-01-05\n",
              "..        ...       ...       ...  ...       ...         ...        ...\n",
              "175 -0.717736 -0.581659 -0.822426  ... -1.966677 -237.609634 2018-06-25\n",
              "176 -0.150263 -0.850009  1.284221  ...  0.126215   68.729714 2018-06-26\n",
              "177 -1.826961 -1.351387  3.204133  ...  0.216952  485.234916 2018-06-27\n",
              "178  2.347456  0.645258 -1.338506  ... -1.175436 -172.111926 2018-06-28\n",
              "179 -0.379772  0.625162  0.604705  ... -1.094068  240.968219 2018-06-29\n",
              "\n",
              "[180 rows x 17 columns]>"
            ]
          },
          "metadata": {
            "tags": []
          },
          "execution_count": 40
        }
      ]
    },
    {
      "cell_type": "code",
      "metadata": {
        "colab": {
          "base_uri": "https://localhost:8080/"
        },
        "id": "hNLdf99EpsIJ",
        "outputId": "93a6b932-9d41-4a5f-ef86-f72674115f06"
      },
      "source": [
        "df.shape"
      ],
      "execution_count": null,
      "outputs": [
        {
          "output_type": "execute_result",
          "data": {
            "text/plain": [
              "(180, 17)"
            ]
          },
          "metadata": {
            "tags": []
          },
          "execution_count": 41
        }
      ]
    },
    {
      "cell_type": "code",
      "metadata": {
        "colab": {
          "base_uri": "https://localhost:8080/"
        },
        "id": "UumEa6z4puPD",
        "outputId": "0d997745-ae0e-4662-8999-b93132661a61"
      },
      "source": [
        "df.size"
      ],
      "execution_count": null,
      "outputs": [
        {
          "output_type": "execute_result",
          "data": {
            "text/plain": [
              "3060"
            ]
          },
          "metadata": {
            "tags": []
          },
          "execution_count": 42
        }
      ]
    },
    {
      "cell_type": "code",
      "metadata": {
        "id": "u3GFQMsVsUJw"
      },
      "source": [
        ""
      ],
      "execution_count": null,
      "outputs": []
    },
    {
      "cell_type": "code",
      "metadata": {
        "colab": {
          "base_uri": "https://localhost:8080/",
          "height": 569
        },
        "id": "VtAF-DirsUMJ",
        "outputId": "a951ff89-0a78-4a6d-8b44-74a402fb1277"
      },
      "source": [
        "corrMatrix = df.corr()\n",
        "corrMatrix"
      ],
      "execution_count": null,
      "outputs": [
        {
          "output_type": "execute_result",
          "data": {
            "text/html": [
              "<div>\n",
              "<style scoped>\n",
              "    .dataframe tbody tr th:only-of-type {\n",
              "        vertical-align: middle;\n",
              "    }\n",
              "\n",
              "    .dataframe tbody tr th {\n",
              "        vertical-align: top;\n",
              "    }\n",
              "\n",
              "    .dataframe thead th {\n",
              "        text-align: right;\n",
              "    }\n",
              "</style>\n",
              "<table border=\"1\" class=\"dataframe\">\n",
              "  <thead>\n",
              "    <tr style=\"text-align: right;\">\n",
              "      <th></th>\n",
              "      <th>0</th>\n",
              "      <th>1</th>\n",
              "      <th>2</th>\n",
              "      <th>3</th>\n",
              "      <th>4</th>\n",
              "      <th>5</th>\n",
              "      <th>6</th>\n",
              "      <th>7</th>\n",
              "      <th>8</th>\n",
              "      <th>9</th>\n",
              "      <th>10</th>\n",
              "      <th>11</th>\n",
              "      <th>12</th>\n",
              "      <th>13</th>\n",
              "      <th>14</th>\n",
              "      <th>Output</th>\n",
              "    </tr>\n",
              "  </thead>\n",
              "  <tbody>\n",
              "    <tr>\n",
              "      <th>0</th>\n",
              "      <td>1.000000</td>\n",
              "      <td>0.024402</td>\n",
              "      <td>0.008195</td>\n",
              "      <td>0.005842</td>\n",
              "      <td>-0.060518</td>\n",
              "      <td>0.074579</td>\n",
              "      <td>-0.062133</td>\n",
              "      <td>-0.037605</td>\n",
              "      <td>0.019292</td>\n",
              "      <td>0.096219</td>\n",
              "      <td>-0.006550</td>\n",
              "      <td>-0.059709</td>\n",
              "      <td>0.068666</td>\n",
              "      <td>-0.090864</td>\n",
              "      <td>-0.040011</td>\n",
              "      <td>0.182511</td>\n",
              "    </tr>\n",
              "    <tr>\n",
              "      <th>1</th>\n",
              "      <td>0.024402</td>\n",
              "      <td>1.000000</td>\n",
              "      <td>-0.097245</td>\n",
              "      <td>0.075239</td>\n",
              "      <td>0.015508</td>\n",
              "      <td>-0.052823</td>\n",
              "      <td>0.091259</td>\n",
              "      <td>-0.004794</td>\n",
              "      <td>-0.140718</td>\n",
              "      <td>-0.037315</td>\n",
              "      <td>-0.048912</td>\n",
              "      <td>-0.247768</td>\n",
              "      <td>-0.078297</td>\n",
              "      <td>0.077541</td>\n",
              "      <td>0.036417</td>\n",
              "      <td>-0.144561</td>\n",
              "    </tr>\n",
              "    <tr>\n",
              "      <th>2</th>\n",
              "      <td>0.008195</td>\n",
              "      <td>-0.097245</td>\n",
              "      <td>1.000000</td>\n",
              "      <td>0.101217</td>\n",
              "      <td>0.017731</td>\n",
              "      <td>-0.083699</td>\n",
              "      <td>-0.031268</td>\n",
              "      <td>0.063539</td>\n",
              "      <td>-0.028234</td>\n",
              "      <td>0.018209</td>\n",
              "      <td>-0.089059</td>\n",
              "      <td>0.004506</td>\n",
              "      <td>-0.028323</td>\n",
              "      <td>-0.033335</td>\n",
              "      <td>0.012573</td>\n",
              "      <td>0.300384</td>\n",
              "    </tr>\n",
              "    <tr>\n",
              "      <th>3</th>\n",
              "      <td>0.005842</td>\n",
              "      <td>0.075239</td>\n",
              "      <td>0.101217</td>\n",
              "      <td>1.000000</td>\n",
              "      <td>-0.056708</td>\n",
              "      <td>-0.019544</td>\n",
              "      <td>-0.113188</td>\n",
              "      <td>0.083977</td>\n",
              "      <td>-0.014369</td>\n",
              "      <td>0.027381</td>\n",
              "      <td>0.149195</td>\n",
              "      <td>-0.043710</td>\n",
              "      <td>-0.023278</td>\n",
              "      <td>0.003325</td>\n",
              "      <td>0.023248</td>\n",
              "      <td>0.170617</td>\n",
              "    </tr>\n",
              "    <tr>\n",
              "      <th>4</th>\n",
              "      <td>-0.060518</td>\n",
              "      <td>0.015508</td>\n",
              "      <td>0.017731</td>\n",
              "      <td>-0.056708</td>\n",
              "      <td>1.000000</td>\n",
              "      <td>0.058953</td>\n",
              "      <td>0.063851</td>\n",
              "      <td>-0.029188</td>\n",
              "      <td>-0.018755</td>\n",
              "      <td>0.025497</td>\n",
              "      <td>-0.116297</td>\n",
              "      <td>-0.068431</td>\n",
              "      <td>-0.125407</td>\n",
              "      <td>-0.052133</td>\n",
              "      <td>0.004978</td>\n",
              "      <td>-0.102106</td>\n",
              "    </tr>\n",
              "    <tr>\n",
              "      <th>5</th>\n",
              "      <td>0.074579</td>\n",
              "      <td>-0.052823</td>\n",
              "      <td>-0.083699</td>\n",
              "      <td>-0.019544</td>\n",
              "      <td>0.058953</td>\n",
              "      <td>1.000000</td>\n",
              "      <td>0.026019</td>\n",
              "      <td>0.054374</td>\n",
              "      <td>0.030928</td>\n",
              "      <td>-0.050815</td>\n",
              "      <td>0.028444</td>\n",
              "      <td>0.053836</td>\n",
              "      <td>0.059465</td>\n",
              "      <td>0.006269</td>\n",
              "      <td>0.023439</td>\n",
              "      <td>0.316395</td>\n",
              "    </tr>\n",
              "    <tr>\n",
              "      <th>6</th>\n",
              "      <td>-0.062133</td>\n",
              "      <td>0.091259</td>\n",
              "      <td>-0.031268</td>\n",
              "      <td>-0.113188</td>\n",
              "      <td>0.063851</td>\n",
              "      <td>0.026019</td>\n",
              "      <td>1.000000</td>\n",
              "      <td>-0.072915</td>\n",
              "      <td>-0.020989</td>\n",
              "      <td>-0.032098</td>\n",
              "      <td>0.060061</td>\n",
              "      <td>-0.046483</td>\n",
              "      <td>-0.002403</td>\n",
              "      <td>-0.035716</td>\n",
              "      <td>0.018493</td>\n",
              "      <td>0.263597</td>\n",
              "    </tr>\n",
              "    <tr>\n",
              "      <th>7</th>\n",
              "      <td>-0.037605</td>\n",
              "      <td>-0.004794</td>\n",
              "      <td>0.063539</td>\n",
              "      <td>0.083977</td>\n",
              "      <td>-0.029188</td>\n",
              "      <td>0.054374</td>\n",
              "      <td>-0.072915</td>\n",
              "      <td>1.000000</td>\n",
              "      <td>0.052885</td>\n",
              "      <td>0.042354</td>\n",
              "      <td>-0.050220</td>\n",
              "      <td>-0.048047</td>\n",
              "      <td>0.058753</td>\n",
              "      <td>0.018847</td>\n",
              "      <td>-0.123726</td>\n",
              "      <td>0.322734</td>\n",
              "    </tr>\n",
              "    <tr>\n",
              "      <th>8</th>\n",
              "      <td>0.019292</td>\n",
              "      <td>-0.140718</td>\n",
              "      <td>-0.028234</td>\n",
              "      <td>-0.014369</td>\n",
              "      <td>-0.018755</td>\n",
              "      <td>0.030928</td>\n",
              "      <td>-0.020989</td>\n",
              "      <td>0.052885</td>\n",
              "      <td>1.000000</td>\n",
              "      <td>0.019047</td>\n",
              "      <td>0.049283</td>\n",
              "      <td>0.110089</td>\n",
              "      <td>-0.069239</td>\n",
              "      <td>-0.067097</td>\n",
              "      <td>0.098651</td>\n",
              "      <td>0.079951</td>\n",
              "    </tr>\n",
              "    <tr>\n",
              "      <th>9</th>\n",
              "      <td>0.096219</td>\n",
              "      <td>-0.037315</td>\n",
              "      <td>0.018209</td>\n",
              "      <td>0.027381</td>\n",
              "      <td>0.025497</td>\n",
              "      <td>-0.050815</td>\n",
              "      <td>-0.032098</td>\n",
              "      <td>0.042354</td>\n",
              "      <td>0.019047</td>\n",
              "      <td>1.000000</td>\n",
              "      <td>0.018830</td>\n",
              "      <td>-0.099574</td>\n",
              "      <td>-0.078891</td>\n",
              "      <td>-0.172220</td>\n",
              "      <td>0.075043</td>\n",
              "      <td>-0.020965</td>\n",
              "    </tr>\n",
              "    <tr>\n",
              "      <th>10</th>\n",
              "      <td>-0.006550</td>\n",
              "      <td>-0.048912</td>\n",
              "      <td>-0.089059</td>\n",
              "      <td>0.149195</td>\n",
              "      <td>-0.116297</td>\n",
              "      <td>0.028444</td>\n",
              "      <td>0.060061</td>\n",
              "      <td>-0.050220</td>\n",
              "      <td>0.049283</td>\n",
              "      <td>0.018830</td>\n",
              "      <td>1.000000</td>\n",
              "      <td>0.070168</td>\n",
              "      <td>0.192614</td>\n",
              "      <td>-0.003984</td>\n",
              "      <td>0.008869</td>\n",
              "      <td>0.449411</td>\n",
              "    </tr>\n",
              "    <tr>\n",
              "      <th>11</th>\n",
              "      <td>-0.059709</td>\n",
              "      <td>-0.247768</td>\n",
              "      <td>0.004506</td>\n",
              "      <td>-0.043710</td>\n",
              "      <td>-0.068431</td>\n",
              "      <td>0.053836</td>\n",
              "      <td>-0.046483</td>\n",
              "      <td>-0.048047</td>\n",
              "      <td>0.110089</td>\n",
              "      <td>-0.099574</td>\n",
              "      <td>0.070168</td>\n",
              "      <td>1.000000</td>\n",
              "      <td>0.053523</td>\n",
              "      <td>0.033790</td>\n",
              "      <td>0.024232</td>\n",
              "      <td>0.440423</td>\n",
              "    </tr>\n",
              "    <tr>\n",
              "      <th>12</th>\n",
              "      <td>0.068666</td>\n",
              "      <td>-0.078297</td>\n",
              "      <td>-0.028323</td>\n",
              "      <td>-0.023278</td>\n",
              "      <td>-0.125407</td>\n",
              "      <td>0.059465</td>\n",
              "      <td>-0.002403</td>\n",
              "      <td>0.058753</td>\n",
              "      <td>-0.069239</td>\n",
              "      <td>-0.078891</td>\n",
              "      <td>0.192614</td>\n",
              "      <td>0.053523</td>\n",
              "      <td>1.000000</td>\n",
              "      <td>-0.056944</td>\n",
              "      <td>-0.058329</td>\n",
              "      <td>0.459752</td>\n",
              "    </tr>\n",
              "    <tr>\n",
              "      <th>13</th>\n",
              "      <td>-0.090864</td>\n",
              "      <td>0.077541</td>\n",
              "      <td>-0.033335</td>\n",
              "      <td>0.003325</td>\n",
              "      <td>-0.052133</td>\n",
              "      <td>0.006269</td>\n",
              "      <td>-0.035716</td>\n",
              "      <td>0.018847</td>\n",
              "      <td>-0.067097</td>\n",
              "      <td>-0.172220</td>\n",
              "      <td>-0.003984</td>\n",
              "      <td>0.033790</td>\n",
              "      <td>-0.056944</td>\n",
              "      <td>1.000000</td>\n",
              "      <td>0.011057</td>\n",
              "      <td>-0.036456</td>\n",
              "    </tr>\n",
              "    <tr>\n",
              "      <th>14</th>\n",
              "      <td>-0.040011</td>\n",
              "      <td>0.036417</td>\n",
              "      <td>0.012573</td>\n",
              "      <td>0.023248</td>\n",
              "      <td>0.004978</td>\n",
              "      <td>0.023439</td>\n",
              "      <td>0.018493</td>\n",
              "      <td>-0.123726</td>\n",
              "      <td>0.098651</td>\n",
              "      <td>0.075043</td>\n",
              "      <td>0.008869</td>\n",
              "      <td>0.024232</td>\n",
              "      <td>-0.058329</td>\n",
              "      <td>0.011057</td>\n",
              "      <td>1.000000</td>\n",
              "      <td>0.225611</td>\n",
              "    </tr>\n",
              "    <tr>\n",
              "      <th>Output</th>\n",
              "      <td>0.182511</td>\n",
              "      <td>-0.144561</td>\n",
              "      <td>0.300384</td>\n",
              "      <td>0.170617</td>\n",
              "      <td>-0.102106</td>\n",
              "      <td>0.316395</td>\n",
              "      <td>0.263597</td>\n",
              "      <td>0.322734</td>\n",
              "      <td>0.079951</td>\n",
              "      <td>-0.020965</td>\n",
              "      <td>0.449411</td>\n",
              "      <td>0.440423</td>\n",
              "      <td>0.459752</td>\n",
              "      <td>-0.036456</td>\n",
              "      <td>0.225611</td>\n",
              "      <td>1.000000</td>\n",
              "    </tr>\n",
              "  </tbody>\n",
              "</table>\n",
              "</div>"
            ],
            "text/plain": [
              "               0         1         2  ...        13        14    Output\n",
              "0       1.000000  0.024402  0.008195  ... -0.090864 -0.040011  0.182511\n",
              "1       0.024402  1.000000 -0.097245  ...  0.077541  0.036417 -0.144561\n",
              "2       0.008195 -0.097245  1.000000  ... -0.033335  0.012573  0.300384\n",
              "3       0.005842  0.075239  0.101217  ...  0.003325  0.023248  0.170617\n",
              "4      -0.060518  0.015508  0.017731  ... -0.052133  0.004978 -0.102106\n",
              "5       0.074579 -0.052823 -0.083699  ...  0.006269  0.023439  0.316395\n",
              "6      -0.062133  0.091259 -0.031268  ... -0.035716  0.018493  0.263597\n",
              "7      -0.037605 -0.004794  0.063539  ...  0.018847 -0.123726  0.322734\n",
              "8       0.019292 -0.140718 -0.028234  ... -0.067097  0.098651  0.079951\n",
              "9       0.096219 -0.037315  0.018209  ... -0.172220  0.075043 -0.020965\n",
              "10     -0.006550 -0.048912 -0.089059  ... -0.003984  0.008869  0.449411\n",
              "11     -0.059709 -0.247768  0.004506  ...  0.033790  0.024232  0.440423\n",
              "12      0.068666 -0.078297 -0.028323  ... -0.056944 -0.058329  0.459752\n",
              "13     -0.090864  0.077541 -0.033335  ...  1.000000  0.011057 -0.036456\n",
              "14     -0.040011  0.036417  0.012573  ...  0.011057  1.000000  0.225611\n",
              "Output  0.182511 -0.144561  0.300384  ... -0.036456  0.225611  1.000000\n",
              "\n",
              "[16 rows x 16 columns]"
            ]
          },
          "metadata": {
            "tags": []
          },
          "execution_count": 43
        }
      ]
    },
    {
      "cell_type": "code",
      "metadata": {
        "colab": {
          "base_uri": "https://localhost:8080/",
          "height": 294
        },
        "id": "50yirDyHsgHc",
        "outputId": "2c53d965-0b3c-4223-a1a6-ff02f1318bc5"
      },
      "source": [
        "import seaborn as sn\n",
        "import matplotlib.pyplot as plt\n",
        "sn.heatmap(corrMatrix, annot=True)\n",
        "plt.show()"
      ],
      "execution_count": null,
      "outputs": [
        {
          "output_type": "display_data",
          "data": {
            "image/png": "[encoded data removed]",
            "text/plain": [
              "<Figure size 432x288 with 2 Axes>"
            ]
          },
          "metadata": {
            "tags": [],
            "needs_background": "light"
          }
        }
      ]
    },
    {
      "cell_type": "markdown",
      "metadata": {
        "id": "HMVfl3kItARp"
      },
      "source": [
        "@# As the atribute shows that there a lot of data has low corelation with the output. lets clean and remove some attributes to find the highest corelated data properties or columns"
      ]
    },
    {
      "cell_type": "code",
      "metadata": {
        "colab": {
          "base_uri": "https://localhost:8080/",
          "height": 313
        },
        "id": "znYFEFy8IrCy",
        "outputId": "fb36f03d-31b8-4d85-eeaf-311e775dbe3a"
      },
      "source": [
        "import numpy as np\n",
        "from matplotlib import pyplot as plt\n",
        "\n",
        "from sklearn import linear_model, datasets\n",
        "\n",
        "\n",
        "n_samples = 1000\n",
        "n_outliers = 50\n",
        "\n",
        "\n",
        "X, y, coef = datasets.make_regression(n_samples=n_samples, n_features=1,\n",
        "                                      n_informative=1, noise=10,\n",
        "                                      coef=True, random_state=0)\n",
        "\n",
        "# Add outlier data\n",
        "np.random.seed(0)\n",
        "X[:n_outliers] = 3 + 0.5 * np.random.normal(size=(n_outliers, 1))\n",
        "y[:n_outliers] = -3 + 10 * np.random.normal(size=n_outliers)\n",
        "\n",
        "# Fit line using all data\n",
        "lr = linear_model.LinearRegression()\n",
        "lr.fit(X, y)\n",
        "\n",
        "# Robustly fit linear model with RANSAC algorithm\n",
        "ransac = linear_model.RANSACRegressor()\n",
        "ransac.fit(X, y)\n",
        "inlier_mask = ransac.inlier_mask_\n",
        "outlier_mask = np.logical_not(inlier_mask)\n",
        "\n",
        "# Predict data of estimated models\n",
        "line_X = np.arange(X.min(), X.max())[:, np.newaxis]\n",
        "line_y = lr.predict(line_X)\n",
        "line_y_ransac = ransac.predict(line_X)\n",
        "\n",
        "# Compare estimated coefficients\n",
        "print(\"Estimated coefficients (true, linear regression, RANSAC):\")\n",
        "print(coef, lr.coef_, ransac.estimator_.coef_)\n",
        "\n",
        "lw = 2\n",
        "plt.scatter(X[inlier_mask], y[inlier_mask], color='yellowgreen', marker='.',\n",
        "            label='Inliers')\n",
        "plt.scatter(X[outlier_mask], y[outlier_mask], color='gold', marker='.',\n",
        "            label='Outliers')\n",
        "plt.plot(line_X, line_y, color='navy', linewidth=lw, label='Linear regressor')\n",
        "plt.plot(line_X, line_y_ransac, color='cornflowerblue', linewidth=lw,\n",
        "         label='RANSAC regressor')\n",
        "plt.legend(loc='lower right')\n",
        "plt.xlabel(\"Input\")\n",
        "plt.ylabel(\"Response\")\n",
        "plt.show()"
      ],
      "execution_count": null,
      "outputs": [
        {
          "output_type": "stream",
          "text": [
            "Estimated coefficients (true, linear regression, RANSAC):\n",
            "82.1903908407869 [54.17236387] [82.08533159]\n"
          ],
          "name": "stdout"
        },
        {
          "output_type": "display_data",
          "data": {
            "image/png": "[encoded data removed]",
            "text/plain": [
              "<Figure size 432x288 with 1 Axes>"
            ]
          },
          "metadata": {
            "tags": [],
            "needs_background": "light"
          }
        }
      ]
    },
    {
      "cell_type": "markdown",
      "metadata": {
        "id": "4vWnVxY7fXNV"
      },
      "source": [
        "#Final MS Excel is Guru \n",
        "Different appoaches after a economical way to find random data from Microsoft Excel"
      ]
    },
    {
      "cell_type": "markdown",
      "metadata": {
        "id": "tl1sqK5WvBwm"
      },
      "source": [
        "#Load important library and start playing with Code and data\n"
      ]
    },
    {
      "cell_type": "code",
      "metadata": {
        "id": "irH2keNffbw4"
      },
      "source": [
        "import pandas as pd\n",
        "import seaborn as sns\n",
        "import matplotlib.pyplot as plt\n",
        "from sklearn.ensemble import RandomForestClassifier\n",
        "from sklearn.svm import SVC\n",
        "from sklearn.linear_model import SGDClassifier\n",
        "from sklearn.metrics import confusion_matrix, classification_report\n",
        "from sklearn.preprocessing import StandardScaler, LabelEncoder\n",
        "\n",
        "from sklearn.model_selection import train_test_split, GridSearchCV, cross_val_score"
      ],
      "execution_count": 1,
      "outputs": []
    },
    {
      "cell_type": "code",
      "metadata": {
        "colab": {
          "base_uri": "https://localhost:8080/",
          "height": 0
        },
        "id": "nzAQE-dJDLQT",
        "outputId": "709231f7-c192-48f8-a91c-35c2840a3811"
      },
      "source": [
        "# Loading Google Drive\n",
        "from google.colab import drive\n",
        "drive.mount('/content/drive')"
      ],
      "execution_count": 2,
      "outputs": [
        {
          "output_type": "stream",
          "text": [
            "Mounted at /content/drive\n"
          ],
          "name": "stdout"
        }
      ]
    },
    {
      "cell_type": "code",
      "metadata": {
        "id": "KytwINOICR9A"
      },
      "source": [
        "#reading Data From The Google Drive\n",
        "life_data = pd.read_csv('/content/drive/MyDrive/Colab Notebooks/Motor_status.csv', sep = ',')"
      ],
      "execution_count": 167,
      "outputs": []
    },
    {
      "cell_type": "code",
      "metadata": {
        "colab": {
          "base_uri": "https://localhost:8080/",
          "height": 425
        },
        "id": "aygJh3HUD7G6",
        "outputId": "eb108572-d19e-4857-d286-39865432c1c6"
      },
      "source": [
        "life_data.head()"
      ],
      "execution_count": 168,
      "outputs": [
        {
          "output_type": "execute_result",
          "data": {
            "text/html": [
              "<div>\n",
              "<style scoped>\n",
              "    .dataframe tbody tr th:only-of-type {\n",
              "        vertical-align: middle;\n",
              "    }\n",
              "\n",
              "    .dataframe tbody tr th {\n",
              "        vertical-align: top;\n",
              "    }\n",
              "\n",
              "    .dataframe thead th {\n",
              "        text-align: right;\n",
              "    }\n",
              "</style>\n",
              "<table border=\"1\" class=\"dataframe\">\n",
              "  <thead>\n",
              "    <tr style=\"text-align: right;\">\n",
              "      <th></th>\n",
              "      <th>date</th>\n",
              "      <th>Minimum Avg Load</th>\n",
              "      <th>Oil and Debris</th>\n",
              "      <th>AvgSpeed</th>\n",
              "      <th>Noise</th>\n",
              "      <th>Power Factor</th>\n",
              "      <th>DailyRunTime</th>\n",
              "      <th>Efficiency</th>\n",
              "      <th>AvgTemperature</th>\n",
              "      <th>Input Current</th>\n",
              "      <th>InputVoltage</th>\n",
              "      <th>Humidity</th>\n",
              "      <th>Vibration</th>\n",
              "      <th>StatusCode</th>\n",
              "      <th>Verdict</th>\n",
              "    </tr>\n",
              "  </thead>\n",
              "  <tbody>\n",
              "    <tr>\n",
              "      <th>0</th>\n",
              "      <td>7/31/2009</td>\n",
              "      <td>7.0</td>\n",
              "      <td>0.27</td>\n",
              "      <td>0.36</td>\n",
              "      <td>20.7</td>\n",
              "      <td>0.5643</td>\n",
              "      <td>15.84</td>\n",
              "      <td>77.22</td>\n",
              "      <td>33.66</td>\n",
              "      <td>15.84</td>\n",
              "      <td>446.49</td>\n",
              "      <td>0.45</td>\n",
              "      <td>4.09464</td>\n",
              "      <td>6</td>\n",
              "      <td>Not Standard Running</td>\n",
              "    </tr>\n",
              "    <tr>\n",
              "      <th>1</th>\n",
              "      <td>8/1/2009</td>\n",
              "      <td>6.3</td>\n",
              "      <td>0.30</td>\n",
              "      <td>0.34</td>\n",
              "      <td>1.6</td>\n",
              "      <td>0.4860</td>\n",
              "      <td>22.77</td>\n",
              "      <td>81.18</td>\n",
              "      <td>36.63</td>\n",
              "      <td>9.90</td>\n",
              "      <td>366.30</td>\n",
              "      <td>0.49</td>\n",
              "      <td>4.04415</td>\n",
              "      <td>6</td>\n",
              "      <td>Not Standard Running</td>\n",
              "    </tr>\n",
              "    <tr>\n",
              "      <th>2</th>\n",
              "      <td>8/2/2009</td>\n",
              "      <td>8.1</td>\n",
              "      <td>0.28</td>\n",
              "      <td>0.40</td>\n",
              "      <td>6.9</td>\n",
              "      <td>0.8190</td>\n",
              "      <td>22.77</td>\n",
              "      <td>78.21</td>\n",
              "      <td>40.59</td>\n",
              "      <td>19.80</td>\n",
              "      <td>395.01</td>\n",
              "      <td>0.44</td>\n",
              "      <td>3.89961</td>\n",
              "      <td>6</td>\n",
              "      <td>Not Standard Running</td>\n",
              "    </tr>\n",
              "    <tr>\n",
              "      <th>3</th>\n",
              "      <td>8/3/2009</td>\n",
              "      <td>7.2</td>\n",
              "      <td>0.23</td>\n",
              "      <td>0.32</td>\n",
              "      <td>8.5</td>\n",
              "      <td>0.8550</td>\n",
              "      <td>8.91</td>\n",
              "      <td>63.36</td>\n",
              "      <td>41.58</td>\n",
              "      <td>13.86</td>\n",
              "      <td>441.54</td>\n",
              "      <td>0.40</td>\n",
              "      <td>4.31244</td>\n",
              "      <td>6</td>\n",
              "      <td>Not Standard Running</td>\n",
              "    </tr>\n",
              "    <tr>\n",
              "      <th>4</th>\n",
              "      <td>8/4/2009</td>\n",
              "      <td>7.2</td>\n",
              "      <td>0.23</td>\n",
              "      <td>0.32</td>\n",
              "      <td>8.5</td>\n",
              "      <td>0.6930</td>\n",
              "      <td>18.81</td>\n",
              "      <td>57.42</td>\n",
              "      <td>33.66</td>\n",
              "      <td>2.97</td>\n",
              "      <td>374.22</td>\n",
              "      <td>0.40</td>\n",
              "      <td>4.31244</td>\n",
              "      <td>6</td>\n",
              "      <td>Not Standard Running</td>\n",
              "    </tr>\n",
              "  </tbody>\n",
              "</table>\n",
              "</div>"
            ],
            "text/plain": [
              "        date  Minimum Avg Load  ...  StatusCode               Verdict\n",
              "0  7/31/2009               7.0  ...           6  Not Standard Running\n",
              "1   8/1/2009               6.3  ...           6  Not Standard Running\n",
              "2   8/2/2009               8.1  ...           6  Not Standard Running\n",
              "3   8/3/2009               7.2  ...           6  Not Standard Running\n",
              "4   8/4/2009               7.2  ...           6  Not Standard Running\n",
              "\n",
              "[5 rows x 15 columns]"
            ]
          },
          "metadata": {
            "tags": []
          },
          "execution_count": 168
        }
      ]
    },
    {
      "cell_type": "code",
      "metadata": {
        "colab": {
          "base_uri": "https://localhost:8080/",
          "height": 332
        },
        "id": "bTQ9BUJ_DVi0",
        "outputId": "f5fb2623-fb80-4a33-c456-965df0b0d1b4"
      },
      "source": [
        "life_data.describe() "
      ],
      "execution_count": 169,
      "outputs": [
        {
          "output_type": "execute_result",
          "data": {
            "text/html": [
              "<div>\n",
              "<style scoped>\n",
              "    .dataframe tbody tr th:only-of-type {\n",
              "        vertical-align: middle;\n",
              "    }\n",
              "\n",
              "    .dataframe tbody tr th {\n",
              "        vertical-align: top;\n",
              "    }\n",
              "\n",
              "    .dataframe thead th {\n",
              "        text-align: right;\n",
              "    }\n",
              "</style>\n",
              "<table border=\"1\" class=\"dataframe\">\n",
              "  <thead>\n",
              "    <tr style=\"text-align: right;\">\n",
              "      <th></th>\n",
              "      <th>Minimum Avg Load</th>\n",
              "      <th>Oil and Debris</th>\n",
              "      <th>AvgSpeed</th>\n",
              "      <th>Noise</th>\n",
              "      <th>Power Factor</th>\n",
              "      <th>DailyRunTime</th>\n",
              "      <th>Efficiency</th>\n",
              "      <th>AvgTemperature</th>\n",
              "      <th>Input Current</th>\n",
              "      <th>InputVoltage</th>\n",
              "      <th>Humidity</th>\n",
              "      <th>Vibration</th>\n",
              "      <th>StatusCode</th>\n",
              "    </tr>\n",
              "  </thead>\n",
              "  <tbody>\n",
              "    <tr>\n",
              "      <th>count</th>\n",
              "      <td>4898.000000</td>\n",
              "      <td>4898.000000</td>\n",
              "      <td>4898.000000</td>\n",
              "      <td>4898.000000</td>\n",
              "      <td>4898.000000</td>\n",
              "      <td>4898.000000</td>\n",
              "      <td>4898.000000</td>\n",
              "      <td>4898.000000</td>\n",
              "      <td>4898.000000</td>\n",
              "      <td>4898.000000</td>\n",
              "      <td>4898.000000</td>\n",
              "      <td>4898.000000</td>\n",
              "      <td>4898.000000</td>\n",
              "    </tr>\n",
              "    <tr>\n",
              "      <th>mean</th>\n",
              "      <td>6.854788</td>\n",
              "      <td>0.278241</td>\n",
              "      <td>0.334192</td>\n",
              "      <td>6.391415</td>\n",
              "      <td>0.673732</td>\n",
              "      <td>11.990764</td>\n",
              "      <td>74.363795</td>\n",
              "      <td>39.656797</td>\n",
              "      <td>20.724512</td>\n",
              "      <td>420.532717</td>\n",
              "      <td>0.489847</td>\n",
              "      <td>4.169474</td>\n",
              "      <td>5.877909</td>\n",
              "    </tr>\n",
              "    <tr>\n",
              "      <th>std</th>\n",
              "      <td>0.843868</td>\n",
              "      <td>0.100795</td>\n",
              "      <td>0.121020</td>\n",
              "      <td>5.072058</td>\n",
              "      <td>0.132250</td>\n",
              "      <td>7.143850</td>\n",
              "      <td>14.417660</td>\n",
              "      <td>5.991545</td>\n",
              "      <td>11.173096</td>\n",
              "      <td>31.250672</td>\n",
              "      <td>0.114126</td>\n",
              "      <td>0.798599</td>\n",
              "      <td>0.885639</td>\n",
              "    </tr>\n",
              "    <tr>\n",
              "      <th>min</th>\n",
              "      <td>3.800000</td>\n",
              "      <td>0.080000</td>\n",
              "      <td>0.000000</td>\n",
              "      <td>0.600000</td>\n",
              "      <td>0.450000</td>\n",
              "      <td>0.000000</td>\n",
              "      <td>49.500000</td>\n",
              "      <td>29.700000</td>\n",
              "      <td>1.980000</td>\n",
              "      <td>366.300000</td>\n",
              "      <td>0.220000</td>\n",
              "      <td>2.554200</td>\n",
              "      <td>3.000000</td>\n",
              "    </tr>\n",
              "    <tr>\n",
              "      <th>25%</th>\n",
              "      <td>6.300000</td>\n",
              "      <td>0.210000</td>\n",
              "      <td>0.270000</td>\n",
              "      <td>1.700000</td>\n",
              "      <td>0.558000</td>\n",
              "      <td>5.940000</td>\n",
              "      <td>62.370000</td>\n",
              "      <td>34.650000</td>\n",
              "      <td>10.890000</td>\n",
              "      <td>394.020000</td>\n",
              "      <td>0.410000</td>\n",
              "      <td>3.564000</td>\n",
              "      <td>5.000000</td>\n",
              "    </tr>\n",
              "    <tr>\n",
              "      <th>50%</th>\n",
              "      <td>6.800000</td>\n",
              "      <td>0.260000</td>\n",
              "      <td>0.320000</td>\n",
              "      <td>5.200000</td>\n",
              "      <td>0.675000</td>\n",
              "      <td>11.880000</td>\n",
              "      <td>74.250000</td>\n",
              "      <td>39.600000</td>\n",
              "      <td>20.790000</td>\n",
              "      <td>420.750000</td>\n",
              "      <td>0.470000</td>\n",
              "      <td>4.102560</td>\n",
              "      <td>6.000000</td>\n",
              "    </tr>\n",
              "    <tr>\n",
              "      <th>75%</th>\n",
              "      <td>7.300000</td>\n",
              "      <td>0.320000</td>\n",
              "      <td>0.390000</td>\n",
              "      <td>9.900000</td>\n",
              "      <td>0.792000</td>\n",
              "      <td>17.820000</td>\n",
              "      <td>87.120000</td>\n",
              "      <td>44.550000</td>\n",
              "      <td>30.690000</td>\n",
              "      <td>447.480000</td>\n",
              "      <td>0.550000</td>\n",
              "      <td>4.698540</td>\n",
              "      <td>6.000000</td>\n",
              "    </tr>\n",
              "    <tr>\n",
              "      <th>max</th>\n",
              "      <td>14.200000</td>\n",
              "      <td>1.100000</td>\n",
              "      <td>1.660000</td>\n",
              "      <td>65.800000</td>\n",
              "      <td>0.900000</td>\n",
              "      <td>23.760000</td>\n",
              "      <td>99.000000</td>\n",
              "      <td>49.500000</td>\n",
              "      <td>39.600000</td>\n",
              "      <td>475.200000</td>\n",
              "      <td>1.080000</td>\n",
              "      <td>6.930000</td>\n",
              "      <td>9.000000</td>\n",
              "    </tr>\n",
              "  </tbody>\n",
              "</table>\n",
              "</div>"
            ],
            "text/plain": [
              "       Minimum Avg Load  Oil and Debris  ...    Vibration   StatusCode\n",
              "count       4898.000000     4898.000000  ...  4898.000000  4898.000000\n",
              "mean           6.854788        0.278241  ...     4.169474     5.877909\n",
              "std            0.843868        0.100795  ...     0.798599     0.885639\n",
              "min            3.800000        0.080000  ...     2.554200     3.000000\n",
              "25%            6.300000        0.210000  ...     3.564000     5.000000\n",
              "50%            6.800000        0.260000  ...     4.102560     6.000000\n",
              "75%            7.300000        0.320000  ...     4.698540     6.000000\n",
              "max           14.200000        1.100000  ...     6.930000     9.000000\n",
              "\n",
              "[8 rows x 13 columns]"
            ]
          },
          "metadata": {
            "tags": []
          },
          "execution_count": 169
        }
      ]
    },
    {
      "cell_type": "code",
      "metadata": {
        "colab": {
          "base_uri": "https://localhost:8080/",
          "height": 0
        },
        "id": "O4ry47LSECRe",
        "outputId": "8840779b-5dc9-4be7-bbb9-7cfb49de436f"
      },
      "source": [
        "life_data.info()"
      ],
      "execution_count": 170,
      "outputs": [
        {
          "output_type": "stream",
          "text": [
            "<class 'pandas.core.frame.DataFrame'>\n",
            "RangeIndex: 4898 entries, 0 to 4897\n",
            "Data columns (total 15 columns):\n",
            " #   Column            Non-Null Count  Dtype  \n",
            "---  ------            --------------  -----  \n",
            " 0   date              4898 non-null   object \n",
            " 1   Minimum Avg Load  4898 non-null   float64\n",
            " 2   Oil and Debris    4898 non-null   float64\n",
            " 3   AvgSpeed          4898 non-null   float64\n",
            " 4   Noise             4898 non-null   float64\n",
            " 5   Power Factor      4898 non-null   float64\n",
            " 6   DailyRunTime      4898 non-null   float64\n",
            " 7   Efficiency        4898 non-null   float64\n",
            " 8   AvgTemperature    4898 non-null   float64\n",
            " 9   Input Current     4898 non-null   float64\n",
            " 10  InputVoltage      4898 non-null   float64\n",
            " 11  Humidity          4898 non-null   float64\n",
            " 12  Vibration         4898 non-null   float64\n",
            " 13  StatusCode        4898 non-null   int64  \n",
            " 14  Verdict           4898 non-null   object \n",
            "dtypes: float64(12), int64(1), object(2)\n",
            "memory usage: 574.1+ KB\n"
          ],
          "name": "stdout"
        }
      ]
    },
    {
      "cell_type": "code",
      "metadata": {
        "colab": {
          "base_uri": "https://localhost:8080/",
          "height": 405
        },
        "id": "4hYFwawjEOf6",
        "outputId": "7e3be55c-5f64-4ee1-805b-8c6417a3f013"
      },
      "source": [
        "fig = plt.figure(figsize = (10,6))\n",
        "sns.barplot(x = 'StatusCode', y = 'Vibration', data = life_data)"
      ],
      "execution_count": 171,
      "outputs": [
        {
          "output_type": "execute_result",
          "data": {
            "text/plain": [
              "<matplotlib.axes._subplots.AxesSubplot at 0x7f5936855b90>"
            ]
          },
          "metadata": {
            "tags": []
          },
          "execution_count": 171
        },
        {
          "output_type": "display_data",
          "data": {
            "image/png": "[encoded data removed]",
            "text/plain": [
              "<Figure size 720x432 with 1 Axes>"
            ]
          },
          "metadata": {
            "tags": [],
            "needs_background": "light"
          }
        }
      ]
    },
    {
      "cell_type": "code",
      "metadata": {
        "colab": {
          "base_uri": "https://localhost:8080/",
          "height": 405
        },
        "id": "akjC5aHeE0kQ",
        "outputId": "4f8ad3c5-c862-48b4-a93e-1672b86abbce"
      },
      "source": [
        "fig = plt.figure(figsize = (10,6))\n",
        "sns.barplot(x = 'StatusCode', y = 'Minimum Avg Load', data = life_data)"
      ],
      "execution_count": 172,
      "outputs": [
        {
          "output_type": "execute_result",
          "data": {
            "text/plain": [
              "<matplotlib.axes._subplots.AxesSubplot at 0x7f59364f5150>"
            ]
          },
          "metadata": {
            "tags": []
          },
          "execution_count": 172
        },
        {
          "output_type": "display_data",
          "data": {
            "image/png": "[encoded data removed]",
            "text/plain": [
              "<Figure size 720x432 with 1 Axes>"
            ]
          },
          "metadata": {
            "tags": [],
            "needs_background": "light"
          }
        }
      ]
    },
    {
      "cell_type": "code",
      "metadata": {
        "colab": {
          "base_uri": "https://localhost:8080/",
          "height": 405
        },
        "id": "AHxP74DXFBH5",
        "outputId": "dc715ffc-7cbf-48d4-8d81-8489853324fa"
      },
      "source": [
        "fig = plt.figure(figsize = (10,6))\n",
        "sns.barplot(x = 'StatusCode', y = 'AvgSpeed', data = life_data)"
      ],
      "execution_count": 173,
      "outputs": [
        {
          "output_type": "execute_result",
          "data": {
            "text/plain": [
              "<matplotlib.axes._subplots.AxesSubplot at 0x7f5936961610>"
            ]
          },
          "metadata": {
            "tags": []
          },
          "execution_count": 173
        },
        {
          "output_type": "display_data",
          "data": {
            "image/png": "[encoded data removed]",
            "text/plain": [
              "<Figure size 720x432 with 1 Axes>"
            ]
          },
          "metadata": {
            "tags": [],
            "needs_background": "light"
          }
        }
      ]
    },
    {
      "cell_type": "code",
      "metadata": {
        "colab": {
          "base_uri": "https://localhost:8080/",
          "height": 405
        },
        "id": "lUWqay1NFHSY",
        "outputId": "1167f1b1-63f3-4b90-dad9-f7be5e82f840"
      },
      "source": [
        "fig = plt.figure(figsize = (10,6))\n",
        "sns.barplot(x = 'StatusCode', y = 'Oil and Debris', data = life_data)"
      ],
      "execution_count": 174,
      "outputs": [
        {
          "output_type": "execute_result",
          "data": {
            "text/plain": [
              "<matplotlib.axes._subplots.AxesSubplot at 0x7f5943c9b2d0>"
            ]
          },
          "metadata": {
            "tags": []
          },
          "execution_count": 174
        },
        {
          "output_type": "display_data",
          "data": {
            "image/png": "[encoded data removed]",
            "text/plain": [
              "<Figure size 720x432 with 1 Axes>"
            ]
          },
          "metadata": {
            "tags": [],
            "needs_background": "light"
          }
        }
      ]
    },
    {
      "cell_type": "code",
      "metadata": {
        "colab": {
          "base_uri": "https://localhost:8080/",
          "height": 405
        },
        "id": "tIj2zplAFRmc",
        "outputId": "5c57c5dc-ba36-4826-d104-7f65430d3cbb"
      },
      "source": [
        "fig = plt.figure(figsize = (10,6))\n",
        "sns.barplot(x = 'StatusCode', y = 'Noise', data = life_data)"
      ],
      "execution_count": 175,
      "outputs": [
        {
          "output_type": "execute_result",
          "data": {
            "text/plain": [
              "<matplotlib.axes._subplots.AxesSubplot at 0x7f5943c3d410>"
            ]
          },
          "metadata": {
            "tags": []
          },
          "execution_count": 175
        },
        {
          "output_type": "display_data",
          "data": {
            "image/png": "[encoded data removed]",
            "text/plain": [
              "<Figure size 720x432 with 1 Axes>"
            ]
          },
          "metadata": {
            "tags": [],
            "needs_background": "light"
          }
        }
      ]
    },
    {
      "cell_type": "code",
      "metadata": {
        "colab": {
          "base_uri": "https://localhost:8080/",
          "height": 649
        },
        "id": "yg9_o9kaMu82",
        "outputId": "fdfb7b76-b8a1-49da-e1ce-79c1f3f4bef9"
      },
      "source": [
        "correlation = life_data.corr()\n",
        "\n",
        "import matplotlib.pyplot as plt\n",
        "fig = plt.subplots(figsize=(10,10))\n",
        "sns.heatmap(correlation,vmax=1,square=True,annot=True,cmap='Blues')"
      ],
      "execution_count": 176,
      "outputs": [
        {
          "output_type": "execute_result",
          "data": {
            "text/plain": [
              "<matplotlib.axes._subplots.AxesSubplot at 0x7f593a053f50>"
            ]
          },
          "metadata": {
            "tags": []
          },
          "execution_count": 176
        },
        {
          "output_type": "display_data",
          "data": {
            "image/png": "[encoded data removed]",
            "text/plain": [
              "<Figure size 720x720 with 2 Axes>"
            ]
          },
          "metadata": {
            "tags": [],
            "needs_background": "light"
          }
        }
      ]
    },
    {
      "cell_type": "code",
      "metadata": {
        "colab": {
          "base_uri": "https://localhost:8080/",
          "height": 0
        },
        "id": "6JVYSWvQNU9Y",
        "outputId": "6eaad5bd-20a7-47f8-afd0-8235454ebb75"
      },
      "source": [
        "life_data.columns"
      ],
      "execution_count": 177,
      "outputs": [
        {
          "output_type": "execute_result",
          "data": {
            "text/plain": [
              "Index(['date', 'Minimum Avg Load', 'Oil and Debris', 'AvgSpeed', 'Noise',\n",
              "       'Power Factor', 'DailyRunTime', 'Efficiency', 'AvgTemperature',\n",
              "       'Input Current', 'InputVoltage', 'Humidity', 'Vibration', 'StatusCode',\n",
              "       'Verdict'],\n",
              "      dtype='object')"
            ]
          },
          "metadata": {
            "tags": []
          },
          "execution_count": 177
        }
      ]
    },
    {
      "cell_type": "code",
      "metadata": {
        "id": "O6qXUwPANZtg"
      },
      "source": [
        ""
      ],
      "execution_count": 177,
      "outputs": []
    },
    {
      "cell_type": "code",
      "metadata": {
        "colab": {
          "base_uri": "https://localhost:8080/",
          "height": 250
        },
        "id": "67HyRkctM-6Z",
        "outputId": "444fdf14-900a-42af-a688-5873903bd104"
      },
      "source": [
        "###Linear Regression analysis\n",
        "features = ['Minimum Avg Load', 'Oil and Debris', 'AvgSpeed', 'Noise',\n",
        "       'Power Factor', 'DailyRunTime', 'Efficiency', 'AvgTemperature',\n",
        "       'Input Current', 'InputVoltage', 'Humidity', 'Vibration']\n",
        "x = life_data[features]\n",
        "y = life_data['StatusCode']\n",
        "#plotting features vs quality\n",
        "sns.pairplot(life_data,x_vars=features,y_vars='StatusCode',kind='reg',size=7,aspect=0.5)"
      ],
      "execution_count": 178,
      "outputs": [
        {
          "output_type": "stream",
          "text": [
            "/usr/local/lib/python3.7/dist-packages/seaborn/axisgrid.py:1969: UserWarning: The `size` parameter has been renamed to `height`; please update your code.\n",
            "  warnings.warn(msg, UserWarning)\n"
          ],
          "name": "stderr"
        },
        {
          "output_type": "execute_result",
          "data": {
            "text/plain": [
              "<seaborn.axisgrid.PairGrid at 0x7f5939b0b050>"
            ]
          },
          "metadata": {
            "tags": []
          },
          "execution_count": 178
        },
        {
          "output_type": "display_data",
          "data": {
            "image/png": "[encoded data removed]",
            "text/plain": [
              "<Figure size 3024x504 with 12 Axes>"
            ]
          },
          "metadata": {
            "tags": [],
            "needs_background": "light"
          }
        }
      ]
    },
    {
      "cell_type": "code",
      "metadata": {
        "id": "z4daoW6QN9iK"
      },
      "source": [
        "\n",
        "##regression\n",
        "x_train,x_test,y_train,y_test=train_test_split(x,y,random_state=3)"
      ],
      "execution_count": 179,
      "outputs": []
    },
    {
      "cell_type": "code",
      "metadata": {
        "colab": {
          "base_uri": "https://localhost:8080/",
          "height": 0
        },
        "id": "hjjp84NROE1p",
        "outputId": "0e85e64a-fba0-44a8-b482-7ea10d2b69ce"
      },
      "source": [
        "from sklearn.linear_model import LinearRegression\n",
        "regressor = LinearRegression()\n",
        "regressor.fit(x_train,y_train)"
      ],
      "execution_count": 180,
      "outputs": [
        {
          "output_type": "execute_result",
          "data": {
            "text/plain": [
              "LinearRegression(copy_X=True, fit_intercept=True, n_jobs=None, normalize=False)"
            ]
          },
          "metadata": {
            "tags": []
          },
          "execution_count": 180
        }
      ]
    },
    {
      "cell_type": "code",
      "metadata": {
        "colab": {
          "base_uri": "https://localhost:8080/",
          "height": 35
        },
        "id": "3PhNaD9OOPPh",
        "outputId": "4cfbac29-c297-4f47-ba46-4e0490938484"
      },
      "source": [
        "accuracy = regressor.score(x_test, y_test)\n",
        "\"Accuracy: {}%\".format(int(round(accuracy * 100)))"
      ],
      "execution_count": 181,
      "outputs": [
        {
          "output_type": "execute_result",
          "data": {
            "application/vnd.google.colaboratory.intrinsic+json": {
              "type": "string"
            },
            "text/plain": [
              "'Accuracy: 12%'"
            ]
          },
          "metadata": {
            "tags": []
          },
          "execution_count": 181
        }
      ]
    },
    {
      "cell_type": "markdown",
      "metadata": {
        "id": "7xGh41bZOTPI"
      },
      "source": [
        "So upto this we loaded our randomly generated dataset and lately we extracted feature and the statuscode of the machien as output.\n",
        "we trained the featrues or motor paramter to compare performance prediction status code as output. but as our dataset is completely random there was an approximate 12% of accuracy.\n"
      ]
    },
    {
      "cell_type": "code",
      "metadata": {
        "colab": {
          "base_uri": "https://localhost:8080/",
          "height": 790
        },
        "id": "1E5txdP9iJaC",
        "outputId": "ed90f29f-02c9-4165-a5cf-1f382e1857a1"
      },
      "source": [
        "life_data"
      ],
      "execution_count": 216,
      "outputs": [
        {
          "output_type": "execute_result",
          "data": {
            "text/html": [
              "<div>\n",
              "<style scoped>\n",
              "    .dataframe tbody tr th:only-of-type {\n",
              "        vertical-align: middle;\n",
              "    }\n",
              "\n",
              "    .dataframe tbody tr th {\n",
              "        vertical-align: top;\n",
              "    }\n",
              "\n",
              "    .dataframe thead th {\n",
              "        text-align: right;\n",
              "    }\n",
              "</style>\n",
              "<table border=\"1\" class=\"dataframe\">\n",
              "  <thead>\n",
              "    <tr style=\"text-align: right;\">\n",
              "      <th></th>\n",
              "      <th>Minimum Avg Load</th>\n",
              "      <th>Oil and Debris</th>\n",
              "      <th>AvgSpeed</th>\n",
              "      <th>Noise</th>\n",
              "      <th>Power Factor</th>\n",
              "      <th>DailyRunTime</th>\n",
              "      <th>Efficiency</th>\n",
              "      <th>AvgTemperature</th>\n",
              "      <th>Input Current</th>\n",
              "      <th>InputVoltage</th>\n",
              "      <th>Humidity</th>\n",
              "      <th>Vibration</th>\n",
              "      <th>StatusCode</th>\n",
              "      <th>Verdict</th>\n",
              "      <th>status</th>\n",
              "    </tr>\n",
              "  </thead>\n",
              "  <tbody>\n",
              "    <tr>\n",
              "      <th>0</th>\n",
              "      <td>7.0</td>\n",
              "      <td>0.27</td>\n",
              "      <td>0.36</td>\n",
              "      <td>20.7</td>\n",
              "      <td>0.5643</td>\n",
              "      <td>15.84</td>\n",
              "      <td>77.22</td>\n",
              "      <td>33.66</td>\n",
              "      <td>15.84</td>\n",
              "      <td>446.49</td>\n",
              "      <td>0.45</td>\n",
              "      <td>4.09464</td>\n",
              "      <td>6</td>\n",
              "      <td>Not Standard Running</td>\n",
              "      <td>good</td>\n",
              "    </tr>\n",
              "    <tr>\n",
              "      <th>1</th>\n",
              "      <td>6.3</td>\n",
              "      <td>0.30</td>\n",
              "      <td>0.34</td>\n",
              "      <td>1.6</td>\n",
              "      <td>0.4860</td>\n",
              "      <td>22.77</td>\n",
              "      <td>81.18</td>\n",
              "      <td>36.63</td>\n",
              "      <td>9.90</td>\n",
              "      <td>366.30</td>\n",
              "      <td>0.49</td>\n",
              "      <td>4.04415</td>\n",
              "      <td>6</td>\n",
              "      <td>Not Standard Running</td>\n",
              "      <td>good</td>\n",
              "    </tr>\n",
              "    <tr>\n",
              "      <th>2</th>\n",
              "      <td>8.1</td>\n",
              "      <td>0.28</td>\n",
              "      <td>0.40</td>\n",
              "      <td>6.9</td>\n",
              "      <td>0.8190</td>\n",
              "      <td>22.77</td>\n",
              "      <td>78.21</td>\n",
              "      <td>40.59</td>\n",
              "      <td>19.80</td>\n",
              "      <td>395.01</td>\n",
              "      <td>0.44</td>\n",
              "      <td>3.89961</td>\n",
              "      <td>6</td>\n",
              "      <td>Not Standard Running</td>\n",
              "      <td>good</td>\n",
              "    </tr>\n",
              "    <tr>\n",
              "      <th>3</th>\n",
              "      <td>7.2</td>\n",
              "      <td>0.23</td>\n",
              "      <td>0.32</td>\n",
              "      <td>8.5</td>\n",
              "      <td>0.8550</td>\n",
              "      <td>8.91</td>\n",
              "      <td>63.36</td>\n",
              "      <td>41.58</td>\n",
              "      <td>13.86</td>\n",
              "      <td>441.54</td>\n",
              "      <td>0.40</td>\n",
              "      <td>4.31244</td>\n",
              "      <td>6</td>\n",
              "      <td>Not Standard Running</td>\n",
              "      <td>good</td>\n",
              "    </tr>\n",
              "    <tr>\n",
              "      <th>4</th>\n",
              "      <td>7.2</td>\n",
              "      <td>0.23</td>\n",
              "      <td>0.32</td>\n",
              "      <td>8.5</td>\n",
              "      <td>0.6930</td>\n",
              "      <td>18.81</td>\n",
              "      <td>57.42</td>\n",
              "      <td>33.66</td>\n",
              "      <td>2.97</td>\n",
              "      <td>374.22</td>\n",
              "      <td>0.40</td>\n",
              "      <td>4.31244</td>\n",
              "      <td>6</td>\n",
              "      <td>Not Standard Running</td>\n",
              "      <td>good</td>\n",
              "    </tr>\n",
              "    <tr>\n",
              "      <th>...</th>\n",
              "      <td>...</td>\n",
              "      <td>...</td>\n",
              "      <td>...</td>\n",
              "      <td>...</td>\n",
              "      <td>...</td>\n",
              "      <td>...</td>\n",
              "      <td>...</td>\n",
              "      <td>...</td>\n",
              "      <td>...</td>\n",
              "      <td>...</td>\n",
              "      <td>...</td>\n",
              "      <td>...</td>\n",
              "      <td>...</td>\n",
              "      <td>...</td>\n",
              "      <td>...</td>\n",
              "    </tr>\n",
              "    <tr>\n",
              "      <th>4893</th>\n",
              "      <td>6.2</td>\n",
              "      <td>0.21</td>\n",
              "      <td>0.29</td>\n",
              "      <td>1.6</td>\n",
              "      <td>0.5220</td>\n",
              "      <td>21.78</td>\n",
              "      <td>86.13</td>\n",
              "      <td>36.63</td>\n",
              "      <td>21.78</td>\n",
              "      <td>376.20</td>\n",
              "      <td>0.50</td>\n",
              "      <td>3.43728</td>\n",
              "      <td>6</td>\n",
              "      <td>Not Standard Running</td>\n",
              "      <td>good</td>\n",
              "    </tr>\n",
              "    <tr>\n",
              "      <th>4894</th>\n",
              "      <td>6.6</td>\n",
              "      <td>0.32</td>\n",
              "      <td>0.36</td>\n",
              "      <td>8.0</td>\n",
              "      <td>0.8280</td>\n",
              "      <td>11.88</td>\n",
              "      <td>67.32</td>\n",
              "      <td>41.58</td>\n",
              "      <td>32.67</td>\n",
              "      <td>439.56</td>\n",
              "      <td>0.46</td>\n",
              "      <td>3.42144</td>\n",
              "      <td>5</td>\n",
              "      <td>High Risk for Shutdown</td>\n",
              "      <td>good</td>\n",
              "    </tr>\n",
              "    <tr>\n",
              "      <th>4895</th>\n",
              "      <td>6.5</td>\n",
              "      <td>0.24</td>\n",
              "      <td>0.19</td>\n",
              "      <td>1.2</td>\n",
              "      <td>0.5130</td>\n",
              "      <td>13.86</td>\n",
              "      <td>58.41</td>\n",
              "      <td>46.53</td>\n",
              "      <td>20.79</td>\n",
              "      <td>471.24</td>\n",
              "      <td>0.46</td>\n",
              "      <td>3.81546</td>\n",
              "      <td>6</td>\n",
              "      <td>Not Standard Running</td>\n",
              "      <td>good</td>\n",
              "    </tr>\n",
              "    <tr>\n",
              "      <th>4896</th>\n",
              "      <td>5.5</td>\n",
              "      <td>0.29</td>\n",
              "      <td>0.30</td>\n",
              "      <td>1.1</td>\n",
              "      <td>0.5940</td>\n",
              "      <td>11.88</td>\n",
              "      <td>88.11</td>\n",
              "      <td>37.62</td>\n",
              "      <td>27.72</td>\n",
              "      <td>450.45</td>\n",
              "      <td>0.38</td>\n",
              "      <td>5.70240</td>\n",
              "      <td>7</td>\n",
              "      <td>Moderate Risk</td>\n",
              "      <td>good</td>\n",
              "    </tr>\n",
              "    <tr>\n",
              "      <th>4897</th>\n",
              "      <td>6.0</td>\n",
              "      <td>0.21</td>\n",
              "      <td>0.38</td>\n",
              "      <td>0.8</td>\n",
              "      <td>0.5130</td>\n",
              "      <td>10.89</td>\n",
              "      <td>94.05</td>\n",
              "      <td>38.61</td>\n",
              "      <td>14.85</td>\n",
              "      <td>394.02</td>\n",
              "      <td>0.32</td>\n",
              "      <td>5.14008</td>\n",
              "      <td>6</td>\n",
              "      <td>Not Standard Running</td>\n",
              "      <td>good</td>\n",
              "    </tr>\n",
              "  </tbody>\n",
              "</table>\n",
              "<p>4898 rows × 15 columns</p>\n",
              "</div>"
            ],
            "text/plain": [
              "      Minimum Avg Load  Oil and Debris  ...                 Verdict  status\n",
              "0                  7.0            0.27  ...    Not Standard Running    good\n",
              "1                  6.3            0.30  ...    Not Standard Running    good\n",
              "2                  8.1            0.28  ...    Not Standard Running    good\n",
              "3                  7.2            0.23  ...    Not Standard Running    good\n",
              "4                  7.2            0.23  ...    Not Standard Running    good\n",
              "...                ...             ...  ...                     ...     ...\n",
              "4893               6.2            0.21  ...    Not Standard Running    good\n",
              "4894               6.6            0.32  ...  High Risk for Shutdown    good\n",
              "4895               6.5            0.24  ...    Not Standard Running    good\n",
              "4896               5.5            0.29  ...           Moderate Risk    good\n",
              "4897               6.0            0.21  ...    Not Standard Running    good\n",
              "\n",
              "[4898 rows x 15 columns]"
            ]
          },
          "metadata": {
            "tags": []
          },
          "execution_count": 216
        }
      ]
    },
    {
      "cell_type": "markdown",
      "metadata": {
        "id": "M1ZSvBsSO3Kx"
      },
      "source": [
        "## lets add random forest algorith for analysis"
      ]
    },
    {
      "cell_type": "code",
      "metadata": {
        "colab": {
          "base_uri": "https://localhost:8080/",
          "height": 425
        },
        "id": "koM2h_Jlkb55",
        "outputId": "3bd97faf-0996-4757-9970-5e6ae4c31e37"
      },
      "source": [
        "life_data = pd.read_csv('/content/drive/MyDrive/Colab Notebooks/Motor_status.csv', sep = ',')\n",
        "#Making binary classificaion for the response variable.\n",
        "#Dividing wine as good and bad by giving the limit for the quality\n",
        "# bins = (2, 4, 8)\n",
        "# group_names = ['bad', 'good']\n",
        "# life_data['status'] = pd.cut(life_data['StatusCode'], bins = bins, labels = group_names)\n",
        "\n",
        "life_data.head()"
      ],
      "execution_count": 247,
      "outputs": [
        {
          "output_type": "execute_result",
          "data": {
            "text/html": [
              "<div>\n",
              "<style scoped>\n",
              "    .dataframe tbody tr th:only-of-type {\n",
              "        vertical-align: middle;\n",
              "    }\n",
              "\n",
              "    .dataframe tbody tr th {\n",
              "        vertical-align: top;\n",
              "    }\n",
              "\n",
              "    .dataframe thead th {\n",
              "        text-align: right;\n",
              "    }\n",
              "</style>\n",
              "<table border=\"1\" class=\"dataframe\">\n",
              "  <thead>\n",
              "    <tr style=\"text-align: right;\">\n",
              "      <th></th>\n",
              "      <th>date</th>\n",
              "      <th>Minimum Avg Load</th>\n",
              "      <th>Oil and Debris</th>\n",
              "      <th>AvgSpeed</th>\n",
              "      <th>Noise</th>\n",
              "      <th>Power Factor</th>\n",
              "      <th>DailyRunTime</th>\n",
              "      <th>Efficiency</th>\n",
              "      <th>AvgTemperature</th>\n",
              "      <th>Input Current</th>\n",
              "      <th>InputVoltage</th>\n",
              "      <th>Humidity</th>\n",
              "      <th>Vibration</th>\n",
              "      <th>StatusCode</th>\n",
              "      <th>Verdict</th>\n",
              "    </tr>\n",
              "  </thead>\n",
              "  <tbody>\n",
              "    <tr>\n",
              "      <th>0</th>\n",
              "      <td>7/31/2009</td>\n",
              "      <td>7.0</td>\n",
              "      <td>0.27</td>\n",
              "      <td>0.36</td>\n",
              "      <td>20.7</td>\n",
              "      <td>0.5643</td>\n",
              "      <td>15.84</td>\n",
              "      <td>77.22</td>\n",
              "      <td>33.66</td>\n",
              "      <td>15.84</td>\n",
              "      <td>446.49</td>\n",
              "      <td>0.45</td>\n",
              "      <td>4.09464</td>\n",
              "      <td>6</td>\n",
              "      <td>Not Standard Running</td>\n",
              "    </tr>\n",
              "    <tr>\n",
              "      <th>1</th>\n",
              "      <td>8/1/2009</td>\n",
              "      <td>6.3</td>\n",
              "      <td>0.30</td>\n",
              "      <td>0.34</td>\n",
              "      <td>1.6</td>\n",
              "      <td>0.4860</td>\n",
              "      <td>22.77</td>\n",
              "      <td>81.18</td>\n",
              "      <td>36.63</td>\n",
              "      <td>9.90</td>\n",
              "      <td>366.30</td>\n",
              "      <td>0.49</td>\n",
              "      <td>4.04415</td>\n",
              "      <td>6</td>\n",
              "      <td>Not Standard Running</td>\n",
              "    </tr>\n",
              "    <tr>\n",
              "      <th>2</th>\n",
              "      <td>8/2/2009</td>\n",
              "      <td>8.1</td>\n",
              "      <td>0.28</td>\n",
              "      <td>0.40</td>\n",
              "      <td>6.9</td>\n",
              "      <td>0.8190</td>\n",
              "      <td>22.77</td>\n",
              "      <td>78.21</td>\n",
              "      <td>40.59</td>\n",
              "      <td>19.80</td>\n",
              "      <td>395.01</td>\n",
              "      <td>0.44</td>\n",
              "      <td>3.89961</td>\n",
              "      <td>6</td>\n",
              "      <td>Not Standard Running</td>\n",
              "    </tr>\n",
              "    <tr>\n",
              "      <th>3</th>\n",
              "      <td>8/3/2009</td>\n",
              "      <td>7.2</td>\n",
              "      <td>0.23</td>\n",
              "      <td>0.32</td>\n",
              "      <td>8.5</td>\n",
              "      <td>0.8550</td>\n",
              "      <td>8.91</td>\n",
              "      <td>63.36</td>\n",
              "      <td>41.58</td>\n",
              "      <td>13.86</td>\n",
              "      <td>441.54</td>\n",
              "      <td>0.40</td>\n",
              "      <td>4.31244</td>\n",
              "      <td>6</td>\n",
              "      <td>Not Standard Running</td>\n",
              "    </tr>\n",
              "    <tr>\n",
              "      <th>4</th>\n",
              "      <td>8/4/2009</td>\n",
              "      <td>7.2</td>\n",
              "      <td>0.23</td>\n",
              "      <td>0.32</td>\n",
              "      <td>8.5</td>\n",
              "      <td>0.6930</td>\n",
              "      <td>18.81</td>\n",
              "      <td>57.42</td>\n",
              "      <td>33.66</td>\n",
              "      <td>2.97</td>\n",
              "      <td>374.22</td>\n",
              "      <td>0.40</td>\n",
              "      <td>4.31244</td>\n",
              "      <td>6</td>\n",
              "      <td>Not Standard Running</td>\n",
              "    </tr>\n",
              "  </tbody>\n",
              "</table>\n",
              "</div>"
            ],
            "text/plain": [
              "        date  Minimum Avg Load  ...  StatusCode               Verdict\n",
              "0  7/31/2009               7.0  ...           6  Not Standard Running\n",
              "1   8/1/2009               6.3  ...           6  Not Standard Running\n",
              "2   8/2/2009               8.1  ...           6  Not Standard Running\n",
              "3   8/3/2009               7.2  ...           6  Not Standard Running\n",
              "4   8/4/2009               7.2  ...           6  Not Standard Running\n",
              "\n",
              "[5 rows x 15 columns]"
            ]
          },
          "metadata": {
            "tags": []
          },
          "execution_count": 247
        }
      ]
    },
    {
      "cell_type": "code",
      "metadata": {
        "colab": {
          "base_uri": "https://localhost:8080/",
          "height": 257
        },
        "id": "CsyoXndDl4Xv",
        "outputId": "a00b1953-dd28-401c-b51a-a54968764df9"
      },
      "source": [
        "# rf_data=\n",
        "life_data.columns\n",
        "rf_data=life_data.drop(['date','Verdict'], axis=1)\n",
        "\n",
        "rf_data.head()"
      ],
      "execution_count": 248,
      "outputs": [
        {
          "output_type": "execute_result",
          "data": {
            "text/html": [
              "<div>\n",
              "<style scoped>\n",
              "    .dataframe tbody tr th:only-of-type {\n",
              "        vertical-align: middle;\n",
              "    }\n",
              "\n",
              "    .dataframe tbody tr th {\n",
              "        vertical-align: top;\n",
              "    }\n",
              "\n",
              "    .dataframe thead th {\n",
              "        text-align: right;\n",
              "    }\n",
              "</style>\n",
              "<table border=\"1\" class=\"dataframe\">\n",
              "  <thead>\n",
              "    <tr style=\"text-align: right;\">\n",
              "      <th></th>\n",
              "      <th>Minimum Avg Load</th>\n",
              "      <th>Oil and Debris</th>\n",
              "      <th>AvgSpeed</th>\n",
              "      <th>Noise</th>\n",
              "      <th>Power Factor</th>\n",
              "      <th>DailyRunTime</th>\n",
              "      <th>Efficiency</th>\n",
              "      <th>AvgTemperature</th>\n",
              "      <th>Input Current</th>\n",
              "      <th>InputVoltage</th>\n",
              "      <th>Humidity</th>\n",
              "      <th>Vibration</th>\n",
              "      <th>StatusCode</th>\n",
              "    </tr>\n",
              "  </thead>\n",
              "  <tbody>\n",
              "    <tr>\n",
              "      <th>0</th>\n",
              "      <td>7.0</td>\n",
              "      <td>0.27</td>\n",
              "      <td>0.36</td>\n",
              "      <td>20.7</td>\n",
              "      <td>0.5643</td>\n",
              "      <td>15.84</td>\n",
              "      <td>77.22</td>\n",
              "      <td>33.66</td>\n",
              "      <td>15.84</td>\n",
              "      <td>446.49</td>\n",
              "      <td>0.45</td>\n",
              "      <td>4.09464</td>\n",
              "      <td>6</td>\n",
              "    </tr>\n",
              "    <tr>\n",
              "      <th>1</th>\n",
              "      <td>6.3</td>\n",
              "      <td>0.30</td>\n",
              "      <td>0.34</td>\n",
              "      <td>1.6</td>\n",
              "      <td>0.4860</td>\n",
              "      <td>22.77</td>\n",
              "      <td>81.18</td>\n",
              "      <td>36.63</td>\n",
              "      <td>9.90</td>\n",
              "      <td>366.30</td>\n",
              "      <td>0.49</td>\n",
              "      <td>4.04415</td>\n",
              "      <td>6</td>\n",
              "    </tr>\n",
              "    <tr>\n",
              "      <th>2</th>\n",
              "      <td>8.1</td>\n",
              "      <td>0.28</td>\n",
              "      <td>0.40</td>\n",
              "      <td>6.9</td>\n",
              "      <td>0.8190</td>\n",
              "      <td>22.77</td>\n",
              "      <td>78.21</td>\n",
              "      <td>40.59</td>\n",
              "      <td>19.80</td>\n",
              "      <td>395.01</td>\n",
              "      <td>0.44</td>\n",
              "      <td>3.89961</td>\n",
              "      <td>6</td>\n",
              "    </tr>\n",
              "    <tr>\n",
              "      <th>3</th>\n",
              "      <td>7.2</td>\n",
              "      <td>0.23</td>\n",
              "      <td>0.32</td>\n",
              "      <td>8.5</td>\n",
              "      <td>0.8550</td>\n",
              "      <td>8.91</td>\n",
              "      <td>63.36</td>\n",
              "      <td>41.58</td>\n",
              "      <td>13.86</td>\n",
              "      <td>441.54</td>\n",
              "      <td>0.40</td>\n",
              "      <td>4.31244</td>\n",
              "      <td>6</td>\n",
              "    </tr>\n",
              "    <tr>\n",
              "      <th>4</th>\n",
              "      <td>7.2</td>\n",
              "      <td>0.23</td>\n",
              "      <td>0.32</td>\n",
              "      <td>8.5</td>\n",
              "      <td>0.6930</td>\n",
              "      <td>18.81</td>\n",
              "      <td>57.42</td>\n",
              "      <td>33.66</td>\n",
              "      <td>2.97</td>\n",
              "      <td>374.22</td>\n",
              "      <td>0.40</td>\n",
              "      <td>4.31244</td>\n",
              "      <td>6</td>\n",
              "    </tr>\n",
              "  </tbody>\n",
              "</table>\n",
              "</div>"
            ],
            "text/plain": [
              "   Minimum Avg Load  Oil and Debris  AvgSpeed  ...  Humidity  Vibration  StatusCode\n",
              "0               7.0            0.27      0.36  ...      0.45    4.09464           6\n",
              "1               6.3            0.30      0.34  ...      0.49    4.04415           6\n",
              "2               8.1            0.28      0.40  ...      0.44    3.89961           6\n",
              "3               7.2            0.23      0.32  ...      0.40    4.31244           6\n",
              "4               7.2            0.23      0.32  ...      0.40    4.31244           6\n",
              "\n",
              "[5 rows x 13 columns]"
            ]
          },
          "metadata": {
            "tags": []
          },
          "execution_count": 248
        }
      ]
    },
    {
      "cell_type": "code",
      "metadata": {
        "id": "t2CIrK-yhqPr"
      },
      "source": [
        "life_data=rf_data\n",
        "X = life_data.drop('StatusCode', axis = 1)\n",
        "y = life_data['StatusCode']"
      ],
      "execution_count": 249,
      "outputs": []
    },
    {
      "cell_type": "code",
      "metadata": {
        "id": "dwkedqAbh32i"
      },
      "source": [
        "#Train and Test splitting of data \n",
        "X_train, X_test, y_train, y_test = train_test_split(X, y, test_size = 0.2, random_state = 42)"
      ],
      "execution_count": 256,
      "outputs": []
    },
    {
      "cell_type": "code",
      "metadata": {
        "id": "QHKafvath_PK"
      },
      "source": [
        "# X_train = sc.fit_transform(X_train)\n",
        "# X_test = sc.fit_transform(X_test)"
      ],
      "execution_count": 255,
      "outputs": []
    },
    {
      "cell_type": "code",
      "metadata": {
        "colab": {
          "base_uri": "https://localhost:8080/",
          "height": 0
        },
        "id": "BurMbdXyJGOW",
        "outputId": "82962cca-fa92-4374-9994-667c126a7b3b"
      },
      "source": [
        "life_data['StatusCode'].value_counts()"
      ],
      "execution_count": 258,
      "outputs": [
        {
          "output_type": "execute_result",
          "data": {
            "text/plain": [
              "6    2198\n",
              "5    1457\n",
              "7     880\n",
              "8     175\n",
              "4     163\n",
              "3      20\n",
              "9       5\n",
              "Name: StatusCode, dtype: int64"
            ]
          },
          "metadata": {
            "tags": []
          },
          "execution_count": 258
        }
      ]
    },
    {
      "cell_type": "code",
      "metadata": {
        "colab": {
          "base_uri": "https://localhost:8080/",
          "height": 350
        },
        "id": "IUypH1ArJSem",
        "outputId": "d0d39e05-1762-417f-ddca-65e58508f026"
      },
      "source": [
        "sns.countplot(life_data['StatusCode'])"
      ],
      "execution_count": 238,
      "outputs": [
        {
          "output_type": "stream",
          "text": [
            "/usr/local/lib/python3.7/dist-packages/seaborn/_decorators.py:43: FutureWarning: Pass the following variable as a keyword arg: x. From version 0.12, the only valid positional argument will be `data`, and passing other arguments without an explicit keyword will result in an error or misinterpretation.\n",
            "  FutureWarning\n"
          ],
          "name": "stderr"
        },
        {
          "output_type": "execute_result",
          "data": {
            "text/plain": [
              "<matplotlib.axes._subplots.AxesSubplot at 0x7f59359baa90>"
            ]
          },
          "metadata": {
            "tags": []
          },
          "execution_count": 238
        },
        {
          "output_type": "display_data",
          "data": {
            "image/png": "[encoded data removed]",
            "text/plain": [
              "<Figure size 432x288 with 1 Axes>"
            ]
          },
          "metadata": {
            "tags": [],
            "needs_background": "light"
          }
        }
      ]
    },
    {
      "cell_type": "code",
      "metadata": {
        "id": "VicJ_N3jiCyg"
      },
      "source": [
        "rfc = RandomForestClassifier(n_estimators=200)\n",
        "rfc.fit(X_train, y_train)\n",
        "pred_rfc = rfc.predict(X_test)"
      ],
      "execution_count": 259,
      "outputs": []
    },
    {
      "cell_type": "code",
      "metadata": {
        "id": "iPi16-VmKqNt"
      },
      "source": [
        "\n",
        "rfc = RandomForestClassifier(n_estimators=100)\n",
        "rfc.fit(X_train, y_train)\n",
        "pred_rfc = rfc.predict(X_test)\n"
      ],
      "execution_count": 241,
      "outputs": []
    },
    {
      "cell_type": "code",
      "metadata": {
        "colab": {
          "base_uri": "https://localhost:8080/",
          "height": 0
        },
        "id": "dJGnlnb9L87X",
        "outputId": "595fb67b-c19b-41a0-b1f1-a1ba9903d434"
      },
      "source": [
        "#Let's see how our model performed\n",
        "print(classification_report(y_test, pred_rfc))"
      ],
      "execution_count": 260,
      "outputs": [
        {
          "output_type": "stream",
          "text": [
            "              precision    recall  f1-score   support\n",
            "\n",
            "           3       0.00      0.00      0.00         5\n",
            "           4       1.00      0.04      0.08        25\n",
            "           5       0.56      0.46      0.51       291\n",
            "           6       0.50      0.79      0.61       432\n",
            "           7       0.51      0.15      0.23       192\n",
            "           8       1.00      0.06      0.11        35\n",
            "\n",
            "    accuracy                           0.52       980\n",
            "   macro avg       0.60      0.25      0.26       980\n",
            "weighted avg       0.55      0.52      0.47       980\n",
            "\n"
          ],
          "name": "stdout"
        },
        {
          "output_type": "stream",
          "text": [
            "/usr/local/lib/python3.7/dist-packages/sklearn/metrics/_classification.py:1272: UndefinedMetricWarning: Precision and F-score are ill-defined and being set to 0.0 in labels with no predicted samples. Use `zero_division` parameter to control this behavior.\n",
            "  _warn_prf(average, modifier, msg_start, len(result))\n"
          ],
          "name": "stderr"
        }
      ]
    },
    {
      "cell_type": "code",
      "metadata": {
        "colab": {
          "base_uri": "https://localhost:8080/",
          "height": 0
        },
        "id": "Ayf4tcCeMIvU",
        "outputId": "02b562c6-657d-4391-ddf5-aac5d02be7f6"
      },
      "source": [
        "#Confusion matrix for the random forest classification\n",
        "print(confusion_matrix(y_test, pred_rfc))"
      ],
      "execution_count": 243,
      "outputs": [
        {
          "output_type": "stream",
          "text": [
            "[[  0   0   2   3   0   0]\n",
            " [  0   1  12  11   1   0]\n",
            " [  0   1 136 150   4   0]\n",
            " [  0   0  90 325  17   0]\n",
            " [  0   0  25 135  32   0]\n",
            " [  0   0   2  26   6   1]]\n"
          ],
          "name": "stdout"
        }
      ]
    },
    {
      "cell_type": "code",
      "metadata": {
        "id": "y8KAzbBPMPiz"
      },
      "source": [
        ""
      ],
      "execution_count": 260,
      "outputs": []
    },
    {
      "cell_type": "markdown",
      "metadata": {
        "id": "KHH0dBvfoxMt"
      },
      "source": [
        "#Support Vector Machine"
      ]
    },
    {
      "cell_type": "code",
      "metadata": {
        "id": "SCkH1yBqMP0w"
      },
      "source": [
        "#SVM\n",
        "svc = SVC()\n",
        "svc.fit(X_train, y_train)\n",
        "pred_svc = svc.predict(X_test)"
      ],
      "execution_count": 244,
      "outputs": []
    },
    {
      "cell_type": "code",
      "metadata": {
        "colab": {
          "base_uri": "https://localhost:8080/",
          "height": 0
        },
        "id": "kjBH4wvZMT-Z",
        "outputId": "f52983b0-2d8d-4e9e-ab93-5a52671d9644"
      },
      "source": [
        "print(classification_report(y_test, pred_svc))"
      ],
      "execution_count": 246,
      "outputs": [
        {
          "output_type": "stream",
          "text": [
            "              precision    recall  f1-score   support\n",
            "\n",
            "           3       0.00      0.00      0.00         5\n",
            "           4       0.00      0.00      0.00        25\n",
            "           5       0.50      0.34      0.41       291\n",
            "           6       0.47      0.84      0.60       432\n",
            "           7       0.44      0.04      0.08       192\n",
            "           8       0.00      0.00      0.00        35\n",
            "\n",
            "    accuracy                           0.48       980\n",
            "   macro avg       0.24      0.20      0.18       980\n",
            "weighted avg       0.45      0.48      0.40       980\n",
            "\n"
          ],
          "name": "stdout"
        },
        {
          "output_type": "stream",
          "text": [
            "/usr/local/lib/python3.7/dist-packages/sklearn/metrics/_classification.py:1272: UndefinedMetricWarning: Precision and F-score are ill-defined and being set to 0.0 in labels with no predicted samples. Use `zero_division` parameter to control this behavior.\n",
            "  _warn_prf(average, modifier, msg_start, len(result))\n"
          ],
          "name": "stderr"
        }
      ]
    },
    {
      "cell_type": "code",
      "metadata": {
        "colab": {
          "base_uri": "https://localhost:8080/",
          "height": 0
        },
        "id": "NA9Ouu6GsdAw",
        "outputId": "1249722f-39a2-4120-c315-cdf3ed744353"
      },
      "source": [
        "print(confusion_matrix(y_test, pred_svc))"
      ],
      "execution_count": 261,
      "outputs": [
        {
          "output_type": "stream",
          "text": [
            "[[  0   0   2   3   0   0]\n",
            " [  0   0  13  11   1   0]\n",
            " [  0   1 100 189   1   0]\n",
            " [  0   0  65 361   6   0]\n",
            " [  0   0  15 169   8   0]\n",
            " [  0   0   4  29   2   0]]\n"
          ],
          "name": "stdout"
        }
      ]
    }
  ]
}